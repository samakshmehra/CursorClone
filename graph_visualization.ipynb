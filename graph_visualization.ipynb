{
 "cells": [
  {
   "cell_type": "markdown",
   "id": "bbf12a53",
   "metadata": {},
   "source": [
    "# LangGraph Visualization"
   ]
  },
  {
   "cell_type": "code",
   "execution_count": 2,
   "id": "e9238b07",
   "metadata": {},
   "outputs": [
    {
     "data": {
      "text/plain": [
       "'/Users/samakshmehra/Desktop/cursor clone /generated_project'"
      ]
     },
     "execution_count": 2,
     "metadata": {},
     "output_type": "execute_result"
    }
   ],
   "source": [
    "from langchain_google_genai import ChatGoogleGenerativeAI\n",
    "from dotenv import load_dotenv\n",
    "from pydantic import BaseModel, Field\n",
    "from schema import Plan, File, TaskPlan, ImplementationTask, State\n",
    "from prompt import PlannerPrompt , ARCHITECT_PROMPT ,CODER_SYSTEM_PROMPT\n",
    "from langgraph.graph import StateGraph, END ,START\n",
    "from langchain.globals import set_verbose, set_debug\n",
    "from tools import read_file, write_file, list_files, get_current_directory, create_react_agent, init_project_root\n",
    "from langgraph.prebuilt import create_react_agent\n",
    "from langchain_core.prompts import PromptTemplate\n",
    "from langchain_core.tools import tool\n",
    "\n",
    "load_dotenv()\n",
    "init_project_root()"
   ]
  },
  {
   "cell_type": "markdown",
   "id": "8ffbb5c1",
   "metadata": {},
   "source": [
    "## Define the State and Agents"
   ]
  },
  {
   "cell_type": "code",
   "execution_count": 4,
   "id": "7f2bb4c5",
   "metadata": {},
   "outputs": [],
   "source": [
    "graph = StateGraph(State)\n",
    "\n",
    "llm = ChatGoogleGenerativeAI(model=\"gemini-2.5-flash\")\n",
    "\n",
    "def planneragent(State):\n",
    "    userprompt = State[\"user_prompt\"]\n",
    "    Plannerllm = llm.with_structured_output(Plan)\n",
    "    prompt = PlannerPrompt.format(user_prompt=userprompt)\n",
    "    response = Plannerllm.invoke(prompt)\n",
    "    return {\"plan\": response}\n",
    "\n",
    "def architectagent(State):\n",
    "    plan = State[\"plan\"]\n",
    "    Architectllm = llm.with_structured_output(TaskPlan)\n",
    "    prompt = ARCHITECT_PROMPT.format(plan=plan)\n",
    "    response = Architectllm.invoke(prompt)\n",
    "    return {\"task_plan\": response, \"current_step\": 0}\n",
    "\n",
    "def coderagent(State):\n",
    "    task_plan = State[\"task_plan\"]\n",
    "    current_step = State.get(\"current_step\", 0)\n",
    "    \n",
    "    if current_step >= len(task_plan.implementation_steps):\n",
    "        return {\"completed\": True}\n",
    "    \n",
    "    current_task = task_plan.implementation_steps[current_step]\n",
    "    \n",
    "    existing_content = read_file.run(current_task.filepath)\n",
    "    user_prompt = (\n",
    "        f\"Task: {current_task.task_description}\\n\"\n",
    "        f\"File: {current_task.filepath}\\n\"\n",
    "        f\"Existing content:\\n{existing_content}\\n\"\n",
    "        \"Use write_file(path, content) to save your changes.\"\n",
    "    )\n",
    "    \n",
    "    coder_tools = [read_file, write_file, list_files, get_current_directory]\n",
    "    react_agent = create_react_agent(llm, coder_tools)\n",
    "\n",
    "    react_agent.invoke({\"messages\": [{\"role\": \"system\", \"content\": CODER_SYSTEM_PROMPT},\n",
    "                                     {\"role\": \"user\", \"content\": user_prompt}]})\n",
    "\n",
    "    return {\"current_step\": current_step + 1}\n",
    "\n",
    "def should_continue(State):\n",
    "    return \"coder\" if not State.get(\"completed\", False) else END"
   ]
  },
  {
   "cell_type": "markdown",
   "id": "13ed3e6d",
   "metadata": {},
   "source": [
    "## Build the Graph Structure"
   ]
  },
  {
   "cell_type": "code",
   "execution_count": 5,
   "id": "0eb1d905",
   "metadata": {},
   "outputs": [
    {
     "data": {
      "text/plain": [
       "<langgraph.graph.state.StateGraph at 0x10e60f890>"
      ]
     },
     "execution_count": 5,
     "metadata": {},
     "output_type": "execute_result"
    }
   ],
   "source": [
    "graph.add_node(\"Planner\", planneragent)\n",
    "graph.add_node(\"Architect\", architectagent)\n",
    "graph.add_node(\"Coder\", coderagent)\n",
    "\n",
    "graph.add_edge(START, \"Planner\")\n",
    "graph.add_edge(\"Planner\", \"Architect\")\n",
    "graph.add_edge(\"Architect\", \"Coder\")\n",
    "graph.add_conditional_edges(\"Coder\", should_continue, {\"coder\": \"Coder\", END: END})"
   ]
  },
  {
   "cell_type": "markdown",
   "id": "0a202c34",
   "metadata": {},
   "source": [
    "## Compile and Visualize the Graph"
   ]
  },
  {
   "cell_type": "code",
   "execution_count": 15,
   "id": "e1c3b71c",
   "metadata": {},
   "outputs": [
    {
     "data": {
      "image/png": "[encoded data removed]",
      "text/plain": [
       "<IPython.core.display.Image object>"
      ]
     },
     "execution_count": 15,
     "metadata": {},
     "output_type": "execute_result"
    }
   ],
   "source": [
    "CursorAgent = graph.compile()\n",
    "\n",
    "# Visualize the graph\n",
    "from IPython.display import Image\n",
    "Image(CursorAgent.get_graph().draw_mermaid_png())\n"
   ]
  },
  {
   "cell_type": "code",
   "execution_count": null,
   "id": "00832224",
   "metadata": {},
   "outputs": [],
   "source": []
  }
 ],
 "metadata": {
  "kernelspec": {
   "display_name": "cursor clone",
   "language": "python",
   "name": "python3"
  },
  "language_info": {
   "codemirror_mode": {
    "name": "ipython",
    "version": 3
   },
   "file_extension": ".py",
   "mimetype": "text/x-python",
   "name": "python",
   "nbconvert_exporter": "python",
   "pygments_lexer": "ipython3",
   "version": "3.13.5"
  }
 },
 "nbformat": 4,
 "nbformat_minor": 5
}
